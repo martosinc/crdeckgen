{
 "cells": [
  {
   "cell_type": "code",
   "execution_count": 1,
   "id": "b813bef1-c0ce-43a1-a3f9-5eaacdcce746",
   "metadata": {},
   "outputs": [],
   "source": [
    "import torch\n",
    "import torch.nn as nn\n",
    "import numpy as np\n",
    "import random"
   ]
  },
  {
   "cell_type": "code",
   "execution_count": 2,
   "id": "7016369a-676b-412c-9eeb-b153bcc33b51",
   "metadata": {},
   "outputs": [
    {
     "name": "stdout",
     "output_type": "stream",
     "text": [
      "Using cpu device\n"
     ]
    }
   ],
   "source": [
    "device = 'cuda' if torch.cuda.is_available() else 'cpu'\n",
    "print('Using {} device'.format(device))"
   ]
  },
  {
   "cell_type": "code",
   "execution_count": 3,
   "id": "42a1b32e-2ced-4e93-b5ec-0b58ed2b23ea",
   "metadata": {},
   "outputs": [],
   "source": [
    "decks = [['barbarian-barrel', 'cannon-cart', 'electro-wizard', 'goblin-drill', 'golden-knight', 'magic-archer', 'royal-ghost', 'tornado'], ['archer-queen', 'electro-spirit', 'elixir-collector', 'fire-spirit', 'mini-pekka', 'skeletons', 'the-log', 'x-bow'], ['bats', 'miner', 'mortar', 'musketeer', 'poison', 'skeleton-army', 'skeleton-king', 'the-log'], ['barbarian-barrel', 'golden-knight', 'heal-spirit', 'hunter', 'ice-golem', 'royal-ghost', 'royal-hogs', 'three-musketeers'], ['baby-dragon', 'bats', 'clone', 'fireball', 'flying-machine', 'lava-hound', 'lumberjack', 'skeleton-army'], ['baby-dragon', 'barbarian-barrel', 'golem', 'lightning', 'night-witch', 'skeleton-king', 'tombstone', 'tornado'], ['earthquake', 'electro-spirit', 'fisherman', 'giant-skeleton', 'hunter', 'royal-giant', 'the-log', 'zappies'], ['dart-goblin', 'fireball', 'goblin-drill', 'inferno-tower', 'skeleton-army', 'skeleton-king', 'the-log', 'wall-breakers'], ['archer-queen', 'electro-spirit', 'fisherman', 'hunter', 'lightning', 'royal-ghost', 'royal-giant', 'the-log'], ['arrows', 'balloon', 'barbarians', 'inferno-dragon', 'lava-hound', 'miner', 'skeleton-dragons', 'zap'], ['baby-dragon', 'balloon', 'barbarian-barrel', 'bowler', 'freeze', 'inferno-dragon', 'lumberjack', 'tornado'], ['balloon', 'barbarian-barrel', 'bowler', 'electro-dragon', 'freeze', 'inferno-dragon', 'lumberjack', 'tornado'], ['arrows', 'bomber', 'elite-barbarians', 'golem', 'lumberjack', 'mega-minion', 'night-witch', 'zap'], ['cannon', 'fire-spirit', 'goblin-barrel', 'mighty-miner', 'princess', 'rocket', 'skeletons', 'the-log'], ['bandit', 'battle-ram', 'electro-wizard', 'fireball', 'magic-archer', 'pekka', 'royal-ghost', 'zap'], ['baby-dragon', 'barbarian-barrel', 'graveyard', 'ice-wizard', 'poison', 'skeleton-king', 'tombstone', 'tornado'], ['bandit', 'battle-ram', 'electro-wizard', 'magic-archer', 'pekka', 'poison', 'royal-ghost', 'zap'], ['baby-dragon', 'barbarian-barrel', 'graveyard', 'ice-wizard', 'poison', 'tombstone', 'tornado', 'valkyrie'], ['bats', 'goblin-gang', 'inferno-dragon', 'mega-knight', 'miner', 'skeleton-barrel', 'spear-goblins', 'zap'], ['archer-queen', 'cannon', 'earthquake', 'fire-spirit', 'royal-delivery', 'royal-hogs', 'skeletons', 'the-log'], ['archers', 'electro-spirit', 'fireball', 'knight', 'skeletons', 'tesla', 'the-log', 'x-bow'], ['baby-dragon', 'barbarian-barrel', 'graveyard', 'ice-wizard', 'knight', 'poison', 'tombstone', 'tornado'], ['electro-spirit', 'goblin-barrel', 'guards', 'inferno-tower', 'princess', 'rocket', 'the-log', 'valkyrie'], ['archers', 'fireball', 'ice-spirit', 'knight', 'skeletons', 'tesla', 'the-log', 'x-bow'], ['goblin-barrel', 'goblin-gang', 'ice-spirit', 'inferno-tower', 'knight', 'princess', 'rocket', 'the-log'], ['electro-spirit', 'goblin-barrel', 'guards', 'princess', 'rocket', 'tesla', 'the-log', 'valkyrie'], ['earthquake', 'firecracker', 'hog-rider', 'ice-spirit', 'skeletons', 'tesla', 'the-log', 'valkyrie'], ['cannon', 'fireball', 'hog-rider', 'ice-golem', 'ice-spirit', 'musketeer', 'skeletons', 'the-log'], ['bandit', 'bomber', 'fire-spirit', 'goblin-drill', 'inferno-tower', 'rocket', 'skeletons', 'the-log'], ['bomb-tower', 'fireball', 'magic-archer', 'miner', 'spear-goblins', 'tornado', 'valkyrie', 'wall-breakers']]"
   ]
  },
  {
   "cell_type": "code",
   "execution_count": 4,
   "id": "151b66a9-9285-4fa4-b01d-7870adddf3f3",
   "metadata": {},
   "outputs": [],
   "source": [
    "cards = set()\n",
    "for deck in decks:\n",
    "    cards.update(deck)\n",
    "\n",
    "cards = ['START'] + list(cards)\n",
    "n_cards = len(cards)"
   ]
  },
  {
   "cell_type": "code",
   "execution_count": 5,
   "id": "8487beaf-c9a9-4f6d-8f99-cdd360e2c5fb",
   "metadata": {},
   "outputs": [
    {
     "data": {
      "text/plain": [
       "83"
      ]
     },
     "execution_count": 5,
     "metadata": {},
     "output_type": "execute_result"
    }
   ],
   "source": [
    "n_cards"
   ]
  },
  {
   "cell_type": "code",
   "execution_count": 5,
   "id": "ea6eb4bb-6cef-4f82-bf78-1750ee3a7292",
   "metadata": {},
   "outputs": [
    {
     "data": {
      "text/plain": [
       "{'START': 0,\n",
       " 'clone': 1,\n",
       " 'knight': 2,\n",
       " 'inferno-tower': 3,\n",
       " 'rocket': 4,\n",
       " 'firecracker': 5,\n",
       " 'princess': 6,\n",
       " 'ice-spirit': 7,\n",
       " 'elite-barbarians': 8,\n",
       " 'lava-hound': 9,\n",
       " 'musketeer': 10,\n",
       " 'inferno-dragon': 11,\n",
       " 'goblin-barrel': 12,\n",
       " 'zappies': 13,\n",
       " 'bandit': 14,\n",
       " 'cannon-cart': 15,\n",
       " 'royal-hogs': 16,\n",
       " 'fisherman': 17,\n",
       " 'bowler': 18,\n",
       " 'hunter': 19,\n",
       " 'mighty-miner': 20,\n",
       " 'battle-ram': 21,\n",
       " 'guards': 22,\n",
       " 'mini-pekka': 23,\n",
       " 'the-log': 24,\n",
       " 'night-witch': 25,\n",
       " 'magic-archer': 26,\n",
       " 'archers': 27,\n",
       " 'wall-breakers': 28,\n",
       " 'heal-spirit': 29,\n",
       " 'bomber': 30,\n",
       " 'graveyard': 31,\n",
       " 'skeleton-king': 32,\n",
       " 'tombstone': 33,\n",
       " 'dart-goblin': 34,\n",
       " 'electro-spirit': 35,\n",
       " 'fire-spirit': 36,\n",
       " 'hog-rider': 37,\n",
       " 'electro-wizard': 38,\n",
       " 'skeletons': 39,\n",
       " 'bats': 40,\n",
       " 'barbarians': 41,\n",
       " 'miner': 42,\n",
       " 'cannon': 43,\n",
       " 'barbarian-barrel': 44,\n",
       " 'freeze': 45,\n",
       " 'lumberjack': 46,\n",
       " 'ice-golem': 47,\n",
       " 'mega-knight': 48,\n",
       " 'spear-goblins': 49,\n",
       " 'valkyrie': 50,\n",
       " 'royal-giant': 51,\n",
       " 'lightning': 52,\n",
       " 'royal-ghost': 53,\n",
       " 'golden-knight': 54,\n",
       " 'fireball': 55,\n",
       " 'balloon': 56,\n",
       " 'elixir-collector': 57,\n",
       " 'skeleton-army': 58,\n",
       " 'mortar': 59,\n",
       " 'tesla': 60,\n",
       " 'goblin-drill': 61,\n",
       " 'poison': 62,\n",
       " 'archer-queen': 63,\n",
       " 'tornado': 64,\n",
       " 'x-bow': 65,\n",
       " 'royal-delivery': 66,\n",
       " 'golem': 67,\n",
       " 'baby-dragon': 68,\n",
       " 'three-musketeers': 69,\n",
       " 'ice-wizard': 70,\n",
       " 'giant-skeleton': 71,\n",
       " 'mega-minion': 72,\n",
       " 'goblin-gang': 73,\n",
       " 'skeleton-barrel': 74,\n",
       " 'bomb-tower': 75,\n",
       " 'skeleton-dragons': 76,\n",
       " 'zap': 77,\n",
       " 'earthquake': 78,\n",
       " 'pekka': 79,\n",
       " 'flying-machine': 80,\n",
       " 'arrows': 81,\n",
       " 'electro-dragon': 82}"
      ]
     },
     "execution_count": 5,
     "metadata": {},
     "output_type": "execute_result"
    }
   ],
   "source": [
    "card_to_int = dict([(b,a) for a,b in enumerate(cards)])\n",
    "card_to_int"
   ]
  },
  {
   "cell_type": "code",
   "execution_count": 6,
   "id": "8dbd2624-1029-41a4-86a1-1738a3f198c1",
   "metadata": {},
   "outputs": [],
   "source": [
    "def inputTensor(deck):\n",
    "    tensor = torch.zeros(len(deck)+1, 1, n_cards)\n",
    "    tensor[0,0, card_to_int['START']] = 1\n",
    "    for i in range(len(deck)):\n",
    "        card = deck[i]\n",
    "        tensor[i+1][0][card_to_int[card]] = 1\n",
    "    return tensor\n",
    "\n",
    "def targetTensor(deck):\n",
    "    card_ix = [card_to_int[deck[i]] for i in range(0, len(deck))]\n",
    "    # print(card_ix)\n",
    "    # card_ix.append(card_to_int['STOP'])\n",
    "    return torch.LongTensor(card_ix)\n",
    "        "
   ]
  },
  {
   "cell_type": "code",
   "execution_count": 28,
   "id": "b4626d57-5fed-45f3-876e-115e5a645591",
   "metadata": {},
   "outputs": [
    {
     "name": "stdout",
     "output_type": "stream",
     "text": [
      "tensor([[[1., 0., 0., 0., 0., 0., 0., 0., 0., 0., 0., 0., 0., 0., 0., 0., 0.,\n",
      "          0., 0., 0., 0., 0., 0., 0., 0., 0., 0., 0., 0., 0., 0., 0., 0., 0.,\n",
      "          0., 0., 0., 0., 0., 0., 0., 0., 0., 0., 0., 0., 0., 0., 0., 0., 0.,\n",
      "          0., 0., 0., 0., 0., 0., 0., 0., 0., 0., 0., 0., 0., 0., 0., 0., 0.,\n",
      "          0., 0., 0., 0., 0., 0., 0., 0., 0., 0., 0., 0., 0., 0., 0.]],\n",
      "\n",
      "        [[0., 0., 0., 0., 0., 0., 0., 0., 0., 0., 0., 0., 0., 0., 0., 0., 0.,\n",
      "          0., 0., 0., 0., 0., 0., 0., 0., 0., 0., 0., 0., 0., 0., 0., 0., 0.,\n",
      "          0., 0., 0., 0., 0., 0., 0., 0., 0., 0., 0., 0., 0., 0., 0., 0., 0.,\n",
      "          0., 0., 0., 0., 0., 0., 0., 0., 0., 0., 0., 0., 0., 0., 0., 0., 0.,\n",
      "          0., 0., 0., 0., 0., 0., 0., 1., 0., 0., 0., 0., 0., 0., 0.]],\n",
      "\n",
      "        [[0., 0., 0., 0., 0., 0., 0., 0., 0., 0., 0., 0., 0., 0., 0., 0., 0.,\n",
      "          0., 0., 0., 0., 0., 0., 0., 0., 0., 0., 0., 0., 0., 0., 0., 0., 0.,\n",
      "          0., 0., 0., 0., 0., 0., 0., 1., 0., 0., 0., 0., 0., 0., 0., 0., 0.,\n",
      "          0., 0., 0., 0., 0., 0., 0., 0., 0., 0., 0., 0., 0., 0., 0., 0., 0.,\n",
      "          0., 0., 0., 0., 0., 0., 0., 0., 0., 0., 0., 0., 0., 0., 0.]],\n",
      "\n",
      "        [[0., 0., 0., 0., 0., 0., 0., 0., 0., 0., 0., 0., 0., 0., 0., 0., 0.,\n",
      "          0., 0., 0., 0., 0., 0., 0., 0., 0., 0., 0., 1., 0., 0., 0., 0., 0.,\n",
      "          0., 0., 0., 0., 0., 0., 0., 0., 0., 0., 0., 0., 0., 0., 0., 0., 0.,\n",
      "          0., 0., 0., 0., 0., 0., 0., 0., 0., 0., 0., 0., 0., 0., 0., 0., 0.,\n",
      "          0., 0., 0., 0., 0., 0., 0., 0., 0., 0., 0., 0., 0., 0., 0.]],\n",
      "\n",
      "        [[0., 0., 0., 0., 0., 0., 0., 0., 0., 0., 0., 0., 0., 0., 0., 0., 0.,\n",
      "          0., 0., 0., 0., 0., 0., 0., 0., 0., 0., 0., 0., 0., 0., 0., 0., 0.,\n",
      "          0., 0., 0., 0., 0., 0., 0., 0., 0., 0., 0., 0., 0., 0., 0., 0., 0.,\n",
      "          0., 0., 0., 1., 0., 0., 0., 0., 0., 0., 0., 0., 0., 0., 0., 0., 0.,\n",
      "          0., 0., 0., 0., 0., 0., 0., 0., 0., 0., 0., 0., 0., 0., 0.]],\n",
      "\n",
      "        [[0., 0., 0., 0., 0., 0., 0., 0., 0., 0., 0., 0., 0., 0., 0., 0., 0.,\n",
      "          0., 0., 0., 0., 0., 0., 0., 1., 0., 0., 0., 0., 0., 0., 0., 0., 0.,\n",
      "          0., 0., 0., 0., 0., 0., 0., 0., 0., 0., 0., 0., 0., 0., 0., 0., 0.,\n",
      "          0., 0., 0., 0., 0., 0., 0., 0., 0., 0., 0., 0., 0., 0., 0., 0., 0.,\n",
      "          0., 0., 0., 0., 0., 0., 0., 0., 0., 0., 0., 0., 0., 0., 0.]],\n",
      "\n",
      "        [[0., 0., 0., 0., 0., 0., 0., 0., 0., 0., 0., 0., 0., 0., 0., 0., 0.,\n",
      "          0., 0., 0., 0., 0., 0., 0., 0., 0., 0., 0., 0., 0., 0., 0., 0., 0.,\n",
      "          0., 0., 0., 0., 0., 0., 0., 0., 0., 0., 0., 0., 0., 0., 0., 0., 0.,\n",
      "          0., 0., 0., 0., 0., 0., 0., 1., 0., 0., 0., 0., 0., 0., 0., 0., 0.,\n",
      "          0., 0., 0., 0., 0., 0., 0., 0., 0., 0., 0., 0., 0., 0., 0.]],\n",
      "\n",
      "        [[0., 0., 0., 0., 0., 0., 0., 0., 0., 0., 0., 0., 0., 0., 0., 0., 0.,\n",
      "          0., 0., 0., 0., 0., 0., 0., 0., 0., 0., 0., 0., 0., 0., 0., 0., 0.,\n",
      "          0., 0., 0., 0., 0., 0., 0., 0., 0., 0., 0., 0., 0., 0., 0., 0., 0.,\n",
      "          0., 0., 0., 0., 0., 0., 0., 0., 0., 0., 0., 0., 0., 0., 0., 0., 0.,\n",
      "          0., 0., 0., 0., 1., 0., 0., 0., 0., 0., 0., 0., 0., 0., 0.]],\n",
      "\n",
      "        [[0., 0., 0., 0., 0., 0., 0., 0., 0., 0., 0., 0., 0., 0., 0., 0., 0.,\n",
      "          0., 0., 0., 0., 0., 0., 0., 0., 0., 0., 0., 0., 0., 0., 0., 0., 0.,\n",
      "          0., 0., 0., 0., 0., 0., 0., 0., 0., 0., 0., 0., 0., 0., 0., 0., 1.,\n",
      "          0., 0., 0., 0., 0., 0., 0., 0., 0., 0., 0., 0., 0., 0., 0., 0., 0.,\n",
      "          0., 0., 0., 0., 0., 0., 0., 0., 0., 0., 0., 0., 0., 0., 0.]]])\n",
      "[75, 41, 28, 54, 24, 58, 72, 50]\n",
      "tensor([75, 41, 28, 54, 24, 58, 72, 50])\n"
     ]
    }
   ],
   "source": [
    "print(inputTensor(decks[0]))\n",
    "print(targetTensor(decks[0]))\n"
   ]
  },
  {
   "cell_type": "code",
   "execution_count": 7,
   "id": "1d10daaf-f268-4835-9711-6041f2a52ffa",
   "metadata": {},
   "outputs": [],
   "source": [
    "def rand_train():\n",
    "    deck = decks[random.randint(0,len(decks)-1)]\n",
    "    input_deck_tensor = inputTensor(deck)\n",
    "    target_deck_tensor = targetTensor(deck)\n",
    "    return input_deck_tensor,target_deck_tensor"
   ]
  },
  {
   "cell_type": "code",
   "execution_count": 47,
   "id": "c90bbf4b-113c-42ae-83a0-e9a493402ae9",
   "metadata": {},
   "outputs": [
    {
     "data": {
      "text/plain": [
       "tensor([[-0.5343, -1.6062, -1.5451],\n",
       "        [-1.0963, -0.5355, -2.5196]])"
      ]
     },
     "execution_count": 47,
     "metadata": {},
     "output_type": "execute_result"
    }
   ],
   "source": [
    "m = nn.LogSoftmax(dim=1)\n",
    "input = torch.randn(2, 3)\n",
    "output = m(input)\n",
    "output"
   ]
  },
  {
   "cell_type": "code",
   "execution_count": 8,
   "id": "36468ffb-e142-4b53-b532-19751972e3a8",
   "metadata": {},
   "outputs": [],
   "source": [
    "class RNN(nn.Module):\n",
    "    def __init__(self,input_size, hidden_size,output_size):\n",
    "        super(RNN, self).__init__()\n",
    "        self.hidden_size = hidden_size\n",
    "        self.i2h = nn.Linear(input_size+hidden_size, hidden_size)\n",
    "        self.h2o = nn.Linear(hidden_size, output_size)\n",
    "        \n",
    "    def forward(self,input,hidden):\n",
    "        input_combined = torch.cat((input,hidden),1)\n",
    "        hidden = torch.tanh(self.i2h(input_combined))\n",
    "        output = self.h2o(hidden)\n",
    "        output = nn.LogSoftmax(dim=1)(output)\n",
    "        return output, hidden\n",
    "    def initHidden(self):\n",
    "        return torch.zeros(1, self.hidden_size)"
   ]
  },
  {
   "cell_type": "code",
   "execution_count": 9,
   "id": "2615ed73-7ee7-4f00-a329-77ad2e973e84",
   "metadata": {},
   "outputs": [],
   "source": [
    "criterion = nn.NLLLoss()\n",
    "\n",
    "def train(optimizer, input_line_tensor, target_line_tensor):\n",
    "    target_line_tensor.unsqueeze_(-1)\n",
    "    hidden = rnn.initHidden()\n",
    "    \n",
    "    loss = 0\n",
    "    \n",
    "    for i in range(input_line_tensor.size(0)):\n",
    "        if i == 8:\n",
    "            break\n",
    "        output,hidden = rnn(input_line_tensor[i], hidden)\n",
    "        l = criterion(output, target_line_tensor[i])\n",
    "        loss += l\n",
    "    \n",
    "    optimizer.zero_grad()\n",
    "    loss.backward()\n",
    "    optimizer.step()\n",
    "    \n",
    "    return output, loss.item() / input_line_tensor.size(0)"
   ]
  },
  {
   "cell_type": "code",
   "execution_count": 15,
   "id": "63a9fcff-ee4f-45ff-bce7-d00394a0b3fd",
   "metadata": {},
   "outputs": [
    {
     "name": "stdout",
     "output_type": "stream",
     "text": [
      "(5000 10%) 0.7864\n",
      "(10000 20%) 0.4004\n",
      "(15000 30%) 0.3949\n",
      "(20000 40%) 0.3925\n",
      "(25000 50%) 0.3912\n",
      "(30000 60%) 0.3909\n",
      "(35000 70%) 0.3903\n",
      "(40000 80%) 0.3897\n",
      "(45000 90%) 0.3932\n",
      "(50000 100%) 0.3884\n"
     ]
    }
   ],
   "source": [
    "rnn = RNN(n_cards, 128, n_cards)\n",
    "\n",
    "lrn_rate = 0.001\n",
    "\n",
    "optimizer = torch.optim.Adam(rnn.parameters(), lr=lrn_rate)\n",
    "\n",
    "n_iters = 50000\n",
    "print_every = 5000\n",
    "total_loss = 0\n",
    "\n",
    "for iter in range(1, n_iters + 1):\n",
    "    output,loss = train(optimizer, *rand_train())\n",
    "    total_loss += loss\n",
    "    \n",
    "    if iter % print_every == 0:\n",
    "        print('(%d %d%%) %.4f' % (iter, iter / n_iters * 100, total_loss / print_every))\n",
    "        total_loss = 0"
   ]
  },
  {
   "cell_type": "code",
   "execution_count": 880,
   "id": "9c25dfd5-e1e8-4e26-a31d-2625afaf9e6b",
   "metadata": {},
   "outputs": [
    {
     "data": {
      "text/plain": [
       "83"
      ]
     },
     "execution_count": 880,
     "metadata": {},
     "output_type": "execute_result"
    }
   ],
   "source": [
    "n_cards"
   ]
  },
  {
   "cell_type": "code",
   "execution_count": 17,
   "id": "c68b05ad-e7c6-4c59-96d7-6ddfcaaed520",
   "metadata": {},
   "outputs": [
    {
     "data": {
      "text/plain": [
       "RNN(\n",
       "  (i2h): Linear(in_features=211, out_features=128, bias=True)\n",
       "  (h2o): Linear(in_features=128, out_features=83, bias=True)\n",
       ")"
      ]
     },
     "execution_count": 17,
     "metadata": {},
     "output_type": "execute_result"
    }
   ],
   "source": [
    "rnn.eval()"
   ]
  },
  {
   "cell_type": "code",
   "execution_count": 18,
   "id": "6d036cb6-24e9-42cb-8375-71614652fceb",
   "metadata": {},
   "outputs": [],
   "source": [
    "def cardTensor(cd):\n",
    "    tensor = torch.zeros(1,1,n_cards)\n",
    "    tensor[0,0,card_to_int[cd]] = 1\n",
    "    return tensor"
   ]
  },
  {
   "cell_type": "code",
   "execution_count": 893,
   "id": "3853398a-97b1-4871-a576-3f7c6a4a0627",
   "metadata": {},
   "outputs": [],
   "source": [
    "def prob_val(array):\n",
    "    probs = []\n",
    "    for i in array:\n",
    "        probs.append(i/sum(array))\n",
    "    \n",
    "    return probs"
   ]
  },
  {
   "cell_type": "code",
   "execution_count": 981,
   "id": "8e83cc4f-b99b-4eb0-b387-83047de5bc43",
   "metadata": {},
   "outputs": [
    {
     "data": {
      "text/plain": [
       "<All keys matched successfully>"
      ]
     },
     "execution_count": 981,
     "metadata": {},
     "output_type": "execute_result"
    }
   ],
   "source": [
    "sum(prob_val([1,1,1,1,3]))\n",
    "rnn.load_state_dict(torch.load('crmodel.pth'))\n"
   ]
  },
  {
   "cell_type": "code",
   "execution_count": 922,
   "id": "09ff07f3-f534-4253-9fec-0e27720f52dc",
   "metadata": {},
   "outputs": [],
   "source": [
    "def prob_sample(array, ignore):\n",
    "    sorted = []\n",
    "    for i in range(8): \n",
    "        e = np.random.choice(array, p = prob_val(array))\n",
    "        array.remove(e)\n",
    "        sorted.append(e)\n",
    "    for i in sorted:\n",
    "        if i not in ignore:\n",
    "            return i\n",
    "    "
   ]
  },
  {
   "cell_type": "code",
   "execution_count": 988,
   "id": "876ef3be-49cb-4b6e-887e-461f391fa9c4",
   "metadata": {},
   "outputs": [],
   "source": [
    "max_length = 8\n",
    "\n",
    "def sample(start_card='START'):\n",
    "    with torch.no_grad():\n",
    "        input = cardTensor(start_card)\n",
    "        hidden = rnn.initHidden()\n",
    "        \n",
    "        output_deck = []\n",
    "        # ignore = []\n",
    "        # card = 'START'\n",
    "        \n",
    "        for i in range(max_length):\n",
    "            output, hidden = rnn(input[0], hidden)\n",
    "            \n",
    "            # i = prob_sample(list(map(int,list(output[0]))), ignore)\n",
    "            c = torch.distributions.categorical.Categorical(logits=output[0])\n",
    "            i = c.sample()\n",
    "            \n",
    "            card = cards[i]\n",
    "\n",
    "            output_deck.append(card)\n",
    "            # ignore.append(i)\n",
    "\n",
    "        return output_deck\n",
    "            "
   ]
  },
  {
   "cell_type": "code",
   "execution_count": 974,
   "id": "a32c77fc-ef2a-4fd3-9ea8-56a3d0dcb063",
   "metadata": {},
   "outputs": [
    {
     "name": "stdout",
     "output_type": "stream",
     "text": [
      "['__class__', '__delattr__', '__dict__', '__dir__', '__doc__', '__eq__', '__format__', '__ge__', '__getattribute__', '__gt__', '__hash__', '__init__', '__init_subclass__', '__le__', '__lt__', '__module__', '__ne__', '__new__', '__reduce__', '__reduce_ex__', '__repr__', '__setattr__', '__sizeof__', '__str__', '__subclasshook__', '__weakref__', '_batch_shape', '_event_shape', '_extended_shape', '_get_checked_instance', '_new', '_num_events', '_param', '_validate_args', '_validate_sample', 'arg_constraints', 'batch_shape', 'cdf', 'entropy', 'enumerate_support', 'event_shape', 'expand', 'has_enumerate_support', 'has_rsample', 'icdf', 'log_prob', 'logits', 'mean', 'param_shape', 'perplexity', 'probs', 'rsample', 'sample', 'sample_n', 'set_default_validate_args', 'stddev', 'support', 'variance']\n"
     ]
    },
    {
     "data": {
      "text/plain": [
       "tensor([-999., -999.,    0.])"
      ]
     },
     "execution_count": 974,
     "metadata": {},
     "output_type": "execute_result"
    }
   ],
   "source": [
    "c = torch.distributions.categorical.Categorical(logits=torch.tensor([1,1,1000]))\n",
    "print(dir(c))\n",
    "c.logits"
   ]
  },
  {
   "cell_type": "code",
   "execution_count": 12,
   "id": "ada79c64-2464-4bfc-9b12-41a7a23d1b9c",
   "metadata": {},
   "outputs": [],
   "source": [
    "def LinkGen(deck):\n",
    "    url = 'https://www.deckshop.pro/check/?deck='\n",
    "    for card in deck:\n",
    "        card = card.replace('-','')\n",
    "        url += card + '-'\n",
    "    return url[:-1]"
   ]
  },
  {
   "cell_type": "code",
   "execution_count": 989,
   "id": "8428aa3f-fd1f-4531-8aca-1c7862679d0d",
   "metadata": {},
   "outputs": [
    {
     "name": "stdout",
     "output_type": "stream",
     "text": [
      "['goblin-barrel', 'baby-dragon', 'cannon', 'magic-archer', 'bats', 'tombstone', 'tombstone', 'bats']\n",
      "https://www.deckshop.pro/check/?deck=goblinbarrel-babydragon-cannon-magicarcher-bats-tombstone-tombstone-bats\n",
      "['cannon', 'bomb-tower', 'earthquake', 'inferno-tower', 'knight', 'skeleton-king', 'goblin-barrel', 'zap']\n",
      "https://www.deckshop.pro/check/?deck=cannon-bombtower-earthquake-infernotower-knight-skeletonking-goblinbarrel-zap\n",
      "['archers', 'electro-spirit', 'fireball', 'fireball', 'baby-dragon', 'skeleton-king', 'balloon', 'zap']\n",
      "https://www.deckshop.pro/check/?deck=archers-electrospirit-fireball-fireball-babydragon-skeletonking-balloon-zap\n",
      "['baby-dragon', 'electro-spirit', 'bats', 'inferno-tower', 'knight', 'skeleton-king', 'cannon', 'zap']\n",
      "https://www.deckshop.pro/check/?deck=babydragon-electrospirit-bats-infernotower-knight-skeletonking-cannon-zap\n",
      "['electro-spirit', 'cannon', 'cannon', 'inferno-tower', 'cannon', 'knight', 'goblin-barrel', 'zap']\n",
      "https://www.deckshop.pro/check/?deck=electrospirit-cannon-cannon-infernotower-cannon-knight-goblinbarrel-zap\n",
      "['baby-dragon', 'electro-spirit', 'bats', 'fireball', 'arrows', 'tombstone', 'bats', 'zap']\n",
      "https://www.deckshop.pro/check/?deck=babydragon-electrospirit-bats-fireball-arrows-tombstone-bats-zap\n",
      "['archer-queen', 'bomber', 'earthquake', 'inferno-tower', 'archer-queen', 'tombstone', 'balloon', 'earthquake']\n",
      "https://www.deckshop.pro/check/?deck=archerqueen-bomber-earthquake-infernotower-archerqueen-tombstone-balloon-earthquake\n",
      "['electro-spirit', 'balloon', 'earthquake', 'fireball', 'cannon', 'poison', 'bats', 'zap']\n",
      "https://www.deckshop.pro/check/?deck=electrospirit-balloon-earthquake-fireball-cannon-poison-bats-zap\n",
      "['electro-spirit', 'balloon', 'earthquake', 'inferno-tower', 'electro-spirit', 'skeleton-king', 'electro-spirit', 'zap']\n",
      "https://www.deckshop.pro/check/?deck=electrospirit-balloon-earthquake-infernotower-electrospirit-skeletonking-electrospirit-zap\n",
      "['baby-dragon', 'electro-spirit', 'arrows', 'fireball', 'arrows', 'poison', 'balloon', 'archer-queen']\n",
      "https://www.deckshop.pro/check/?deck=babydragon-electrospirit-arrows-fireball-arrows-poison-balloon-archerqueen\n",
      "['dart-goblin', 'balloon', 'electro-spirit', 'inferno-tower', 'cannon', 'skeleton-king', 'goblin-barrel', 'zap']\n",
      "https://www.deckshop.pro/check/?deck=dartgoblin-balloon-electrospirit-infernotower-cannon-skeletonking-goblinbarrel-zap\n",
      "['barbarian-barrel', 'electro-spirit', 'earthquake', 'cannon', 'earthquake', 'skeleton-king', 'barbarian-barrel', 'zap']\n",
      "https://www.deckshop.pro/check/?deck=barbarianbarrel-electrospirit-earthquake-cannon-earthquake-skeletonking-barbarianbarrel-zap\n",
      "['electro-spirit', 'electro-spirit', 'earthquake', 'fireball', 'princess', 'tombstone', 'tombstone', 'barbarian-barrel']\n",
      "https://www.deckshop.pro/check/?deck=electrospirit-electrospirit-earthquake-fireball-princess-tombstone-tombstone-barbarianbarrel\n",
      "['bandit', 'barbarian-barrel', 'electro-spirit', 'fireball', 'earthquake', 'skeleton-king', 'bats', 'zap']\n",
      "https://www.deckshop.pro/check/?deck=bandit-barbarianbarrel-electrospirit-fireball-earthquake-skeletonking-bats-zap\n",
      "['baby-dragon', 'barbarian-barrel', 'earthquake', 'fireball', 'knight', 'tombstone', 'balloon', 'barbarian-barrel']\n",
      "https://www.deckshop.pro/check/?deck=babydragon-barbarianbarrel-earthquake-fireball-knight-tombstone-balloon-barbarianbarrel\n"
     ]
    }
   ],
   "source": [
    "for i in range(15):\n",
    "    decksample = sample()\n",
    "    print(decksample)\n",
    "    print(LinkGen(decksample))"
   ]
  },
  {
   "cell_type": "code",
   "execution_count": 25,
   "id": "898fdcf7-cceb-45c4-bb8b-a4ef1bf1b2d3",
   "metadata": {},
   "outputs": [],
   "source": [
    "# torch.save(rnn.state_dict(), 'crmodel.pth')"
   ]
  },
  {
   "cell_type": "code",
   "execution_count": 730,
   "id": "02b3e2cf-ed77-4c15-8e4d-b9b77e9d48e7",
   "metadata": {},
   "outputs": [
    {
     "data": {
      "text/plain": [
       "['START',\n",
       " 'clone',\n",
       " 'knight',\n",
       " 'inferno-tower',\n",
       " 'rocket',\n",
       " 'firecracker',\n",
       " 'princess',\n",
       " 'ice-spirit',\n",
       " 'elite-barbarians',\n",
       " 'lava-hound',\n",
       " 'musketeer',\n",
       " 'inferno-dragon',\n",
       " 'goblin-barrel',\n",
       " 'zappies',\n",
       " 'bandit',\n",
       " 'cannon-cart',\n",
       " 'royal-hogs',\n",
       " 'fisherman',\n",
       " 'bowler',\n",
       " 'hunter',\n",
       " 'mighty-miner',\n",
       " 'battle-ram',\n",
       " 'guards',\n",
       " 'mini-pekka',\n",
       " 'the-log',\n",
       " 'night-witch',\n",
       " 'magic-archer',\n",
       " 'archers',\n",
       " 'wall-breakers',\n",
       " 'heal-spirit',\n",
       " 'bomber',\n",
       " 'graveyard',\n",
       " 'skeleton-king',\n",
       " 'tombstone',\n",
       " 'dart-goblin',\n",
       " 'electro-spirit',\n",
       " 'fire-spirit',\n",
       " 'hog-rider',\n",
       " 'electro-wizard',\n",
       " 'skeletons',\n",
       " 'bats',\n",
       " 'barbarians',\n",
       " 'miner',\n",
       " 'cannon',\n",
       " 'barbarian-barrel',\n",
       " 'freeze',\n",
       " 'lumberjack',\n",
       " 'ice-golem',\n",
       " 'mega-knight',\n",
       " 'spear-goblins',\n",
       " 'valkyrie',\n",
       " 'royal-giant',\n",
       " 'lightning',\n",
       " 'royal-ghost',\n",
       " 'golden-knight',\n",
       " 'fireball',\n",
       " 'balloon',\n",
       " 'elixir-collector',\n",
       " 'skeleton-army',\n",
       " 'mortar',\n",
       " 'tesla',\n",
       " 'goblin-drill',\n",
       " 'poison',\n",
       " 'archer-queen',\n",
       " 'tornado',\n",
       " 'x-bow',\n",
       " 'royal-delivery',\n",
       " 'golem',\n",
       " 'baby-dragon',\n",
       " 'three-musketeers',\n",
       " 'ice-wizard',\n",
       " 'giant-skeleton',\n",
       " 'mega-minion',\n",
       " 'goblin-gang',\n",
       " 'skeleton-barrel',\n",
       " 'bomb-tower',\n",
       " 'skeleton-dragons',\n",
       " 'zap',\n",
       " 'earthquake',\n",
       " 'pekka',\n",
       " 'flying-machine',\n",
       " 'arrows',\n",
       " 'electro-dragon']"
      ]
     },
     "execution_count": 730,
     "metadata": {},
     "output_type": "execute_result"
    }
   ],
   "source": [
    "cards"
   ]
  }
 ],
 "metadata": {
  "kernelspec": {
   "display_name": "Python 3 (ipykernel)",
   "language": "python",
   "name": "python3"
  },
  "language_info": {
   "codemirror_mode": {
    "name": "ipython",
    "version": 3
   },
   "file_extension": ".py",
   "mimetype": "text/x-python",
   "name": "python",
   "nbconvert_exporter": "python",
   "pygments_lexer": "ipython3",
   "version": "3.10.4"
  }
 },
 "nbformat": 4,
 "nbformat_minor": 5
}
