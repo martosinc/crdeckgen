{
 "cells": [
  {
   "cell_type": "code",
   "execution_count": 1,
   "id": "b813bef1-c0ce-43a1-a3f9-5eaacdcce746",
   "metadata": {},
   "outputs": [],
   "source": [
    "import torch\n",
    "import torch.nn as nn\n",
    "import numpy as np\n",
    "import random"
   ]
  },
  {
   "cell_type": "code",
   "execution_count": 2,
   "id": "7016369a-676b-412c-9eeb-b153bcc33b51",
   "metadata": {},
   "outputs": [
    {
     "name": "stdout",
     "output_type": "stream",
     "text": [
      "Using cpu device\n"
     ]
    }
   ],
   "source": [
    "device = 'cuda' if torch.cuda.is_available() else 'cpu'\n",
    "print('Using {} device'.format(device))"
   ]
  },
  {
   "cell_type": "code",
   "execution_count": 3,
   "id": "42a1b32e-2ced-4e93-b5ec-0b58ed2b23ea",
   "metadata": {},
   "outputs": [],
   "source": [
    "decks = [['barbarian-barrel', 'cannon-cart', 'electro-wizard', 'goblin-drill', 'golden-knight', 'magic-archer', 'royal-ghost', 'tornado'], ['archer-queen', 'electro-spirit', 'elixir-collector', 'fire-spirit', 'mini-pekka', 'skeletons', 'the-log', 'x-bow'], ['bats', 'miner', 'mortar', 'musketeer', 'poison', 'skeleton-army', 'skeleton-king', 'the-log'], ['barbarian-barrel', 'golden-knight', 'heal-spirit', 'hunter', 'ice-golem', 'royal-ghost', 'royal-hogs', 'three-musketeers'], ['baby-dragon', 'bats', 'clone', 'fireball', 'flying-machine', 'lava-hound', 'lumberjack', 'skeleton-army'], ['baby-dragon', 'barbarian-barrel', 'golem', 'lightning', 'night-witch', 'skeleton-king', 'tombstone', 'tornado'], ['earthquake', 'electro-spirit', 'fisherman', 'giant-skeleton', 'hunter', 'royal-giant', 'the-log', 'zappies'], ['dart-goblin', 'fireball', 'goblin-drill', 'inferno-tower', 'skeleton-army', 'skeleton-king', 'the-log', 'wall-breakers'], ['archer-queen', 'electro-spirit', 'fisherman', 'hunter', 'lightning', 'royal-ghost', 'royal-giant', 'the-log'], ['arrows', 'balloon', 'barbarians', 'inferno-dragon', 'lava-hound', 'miner', 'skeleton-dragons', 'zap'], ['baby-dragon', 'balloon', 'barbarian-barrel', 'bowler', 'freeze', 'inferno-dragon', 'lumberjack', 'tornado'], ['balloon', 'barbarian-barrel', 'bowler', 'electro-dragon', 'freeze', 'inferno-dragon', 'lumberjack', 'tornado'], ['arrows', 'bomber', 'elite-barbarians', 'golem', 'lumberjack', 'mega-minion', 'night-witch', 'zap'], ['cannon', 'fire-spirit', 'goblin-barrel', 'mighty-miner', 'princess', 'rocket', 'skeletons', 'the-log'], ['bandit', 'battle-ram', 'electro-wizard', 'fireball', 'magic-archer', 'pekka', 'royal-ghost', 'zap'], ['baby-dragon', 'barbarian-barrel', 'graveyard', 'ice-wizard', 'poison', 'skeleton-king', 'tombstone', 'tornado'], ['bandit', 'battle-ram', 'electro-wizard', 'magic-archer', 'pekka', 'poison', 'royal-ghost', 'zap'], ['baby-dragon', 'barbarian-barrel', 'graveyard', 'ice-wizard', 'poison', 'tombstone', 'tornado', 'valkyrie'], ['bats', 'goblin-gang', 'inferno-dragon', 'mega-knight', 'miner', 'skeleton-barrel', 'spear-goblins', 'zap'], ['archer-queen', 'cannon', 'earthquake', 'fire-spirit', 'royal-delivery', 'royal-hogs', 'skeletons', 'the-log'], ['archers', 'electro-spirit', 'fireball', 'knight', 'skeletons', 'tesla', 'the-log', 'x-bow'], ['baby-dragon', 'barbarian-barrel', 'graveyard', 'ice-wizard', 'knight', 'poison', 'tombstone', 'tornado'], ['electro-spirit', 'goblin-barrel', 'guards', 'inferno-tower', 'princess', 'rocket', 'the-log', 'valkyrie'], ['archers', 'fireball', 'ice-spirit', 'knight', 'skeletons', 'tesla', 'the-log', 'x-bow'], ['goblin-barrel', 'goblin-gang', 'ice-spirit', 'inferno-tower', 'knight', 'princess', 'rocket', 'the-log'], ['electro-spirit', 'goblin-barrel', 'guards', 'princess', 'rocket', 'tesla', 'the-log', 'valkyrie'], ['earthquake', 'firecracker', 'hog-rider', 'ice-spirit', 'skeletons', 'tesla', 'the-log', 'valkyrie'], ['cannon', 'fireball', 'hog-rider', 'ice-golem', 'ice-spirit', 'musketeer', 'skeletons', 'the-log'], ['bandit', 'bomber', 'fire-spirit', 'goblin-drill', 'inferno-tower', 'rocket', 'skeletons', 'the-log'], ['bomb-tower', 'fireball', 'magic-archer', 'miner', 'spear-goblins', 'tornado', 'valkyrie', 'wall-breakers']]"
   ]
  },
  {
   "cell_type": "code",
   "execution_count": 4,
   "id": "151b66a9-9285-4fa4-b01d-7870adddf3f3",
   "metadata": {},
   "outputs": [],
   "source": [
    "cards = set()\n",
    "for deck in decks:\n",
    "    cards.update(deck)\n",
    "\n",
    "cards = ['START'] + list(cards)\n",
    "n_cards = len(cards)"
   ]
  },
  {
   "cell_type": "code",
   "execution_count": 5,
   "id": "8487beaf-c9a9-4f6d-8f99-cdd360e2c5fb",
   "metadata": {},
   "outputs": [
    {
     "data": {
      "text/plain": [
       "83"
      ]
     },
     "execution_count": 5,
     "metadata": {},
     "output_type": "execute_result"
    }
   ],
   "source": [
    "n_cards"
   ]
  },
  {
   "cell_type": "code",
   "execution_count": 6,
   "id": "ea6eb4bb-6cef-4f82-bf78-1750ee3a7292",
   "metadata": {},
   "outputs": [
    {
     "data": {
      "text/plain": [
       "{'START': 0,\n",
       " 'mini-pekka': 1,\n",
       " 'ice-wizard': 2,\n",
       " 'zap': 3,\n",
       " 'baby-dragon': 4,\n",
       " 'fisherman': 5,\n",
       " 'night-witch': 6,\n",
       " 'bomber': 7,\n",
       " 'hunter': 8,\n",
       " 'freeze': 9,\n",
       " 'tombstone': 10,\n",
       " 'lava-hound': 11,\n",
       " 'inferno-tower': 12,\n",
       " 'valkyrie': 13,\n",
       " 'bandit': 14,\n",
       " 'lightning': 15,\n",
       " 'earthquake': 16,\n",
       " 'mega-knight': 17,\n",
       " 'electro-spirit': 18,\n",
       " 'bats': 19,\n",
       " 'fireball': 20,\n",
       " 'spear-goblins': 21,\n",
       " 'mega-minion': 22,\n",
       " 'knight': 23,\n",
       " 'golden-knight': 24,\n",
       " 'ice-golem': 25,\n",
       " 'zappies': 26,\n",
       " 'firecracker': 27,\n",
       " 'electro-wizard': 28,\n",
       " 'rocket': 29,\n",
       " 'clone': 30,\n",
       " 'wall-breakers': 31,\n",
       " 'miner': 32,\n",
       " 'archer-queen': 33,\n",
       " 'skeleton-army': 34,\n",
       " 'musketeer': 35,\n",
       " 'dart-goblin': 36,\n",
       " 'fire-spirit': 37,\n",
       " 'skeleton-king': 38,\n",
       " 'goblin-barrel': 39,\n",
       " 'goblin-gang': 40,\n",
       " 'cannon-cart': 41,\n",
       " 'giant-skeleton': 42,\n",
       " 'battle-ram': 43,\n",
       " 'x-bow': 44,\n",
       " 'royal-giant': 45,\n",
       " 'flying-machine': 46,\n",
       " 'electro-dragon': 47,\n",
       " 'archers': 48,\n",
       " 'princess': 49,\n",
       " 'tornado': 50,\n",
       " 'elite-barbarians': 51,\n",
       " 'the-log': 52,\n",
       " 'balloon': 53,\n",
       " 'goblin-drill': 54,\n",
       " 'royal-hogs': 55,\n",
       " 'three-musketeers': 56,\n",
       " 'tesla': 57,\n",
       " 'magic-archer': 58,\n",
       " 'lumberjack': 59,\n",
       " 'golem': 60,\n",
       " 'inferno-dragon': 61,\n",
       " 'pekka': 62,\n",
       " 'skeletons': 63,\n",
       " 'graveyard': 64,\n",
       " 'skeleton-dragons': 65,\n",
       " 'guards': 66,\n",
       " 'skeleton-barrel': 67,\n",
       " 'mortar': 68,\n",
       " 'arrows': 69,\n",
       " 'bowler': 70,\n",
       " 'heal-spirit': 71,\n",
       " 'royal-ghost': 72,\n",
       " 'bomb-tower': 73,\n",
       " 'hog-rider': 74,\n",
       " 'barbarian-barrel': 75,\n",
       " 'royal-delivery': 76,\n",
       " 'poison': 77,\n",
       " 'ice-spirit': 78,\n",
       " 'barbarians': 79,\n",
       " 'cannon': 80,\n",
       " 'mighty-miner': 81,\n",
       " 'elixir-collector': 82}"
      ]
     },
     "execution_count": 6,
     "metadata": {},
     "output_type": "execute_result"
    }
   ],
   "source": [
    "card_to_int = dict([(b,a) for a,b in enumerate(cards)])\n",
    "card_to_int"
   ]
  },
  {
   "cell_type": "code",
   "execution_count": 36,
   "id": "8dbd2624-1029-41a4-86a1-1738a3f198c1",
   "metadata": {},
   "outputs": [],
   "source": [
    "def inputTensor(deck):\n",
    "    tensor = torch.zeros(len(deck)+1, 1, n_cards)\n",
    "    tensor[0,0, card_to_int['START']] = 1\n",
    "    for i in range(len(deck)):\n",
    "        card = deck[i]\n",
    "        tensor[i+1][0][card_to_int[card]] = 1\n",
    "    return tensor\n",
    "\n",
    "def targetTensor(deck):\n",
    "    card_ix = [card_to_int[deck[i]] for i in range(0, len(deck))]\n",
    "    # print(card_ix)\n",
    "    # card_ix.append(card_to_int['STOP'])\n",
    "    return torch.LongTensor(card_ix)\n",
    "        "
   ]
  },
  {
   "cell_type": "code",
   "execution_count": 28,
   "id": "b4626d57-5fed-45f3-876e-115e5a645591",
   "metadata": {},
   "outputs": [
    {
     "name": "stdout",
     "output_type": "stream",
     "text": [
      "tensor([[[1., 0., 0., 0., 0., 0., 0., 0., 0., 0., 0., 0., 0., 0., 0., 0., 0.,\n",
      "          0., 0., 0., 0., 0., 0., 0., 0., 0., 0., 0., 0., 0., 0., 0., 0., 0.,\n",
      "          0., 0., 0., 0., 0., 0., 0., 0., 0., 0., 0., 0., 0., 0., 0., 0., 0.,\n",
      "          0., 0., 0., 0., 0., 0., 0., 0., 0., 0., 0., 0., 0., 0., 0., 0., 0.,\n",
      "          0., 0., 0., 0., 0., 0., 0., 0., 0., 0., 0., 0., 0., 0., 0.]],\n",
      "\n",
      "        [[0., 0., 0., 0., 0., 0., 0., 0., 0., 0., 0., 0., 0., 0., 0., 0., 0.,\n",
      "          0., 0., 0., 0., 0., 0., 0., 0., 0., 0., 0., 0., 0., 0., 0., 0., 0.,\n",
      "          0., 0., 0., 0., 0., 0., 0., 0., 0., 0., 0., 0., 0., 0., 0., 0., 0.,\n",
      "          0., 0., 0., 0., 0., 0., 0., 0., 0., 0., 0., 0., 0., 0., 0., 0., 0.,\n",
      "          0., 0., 0., 0., 0., 0., 0., 1., 0., 0., 0., 0., 0., 0., 0.]],\n",
      "\n",
      "        [[0., 0., 0., 0., 0., 0., 0., 0., 0., 0., 0., 0., 0., 0., 0., 0., 0.,\n",
      "          0., 0., 0., 0., 0., 0., 0., 0., 0., 0., 0., 0., 0., 0., 0., 0., 0.,\n",
      "          0., 0., 0., 0., 0., 0., 0., 1., 0., 0., 0., 0., 0., 0., 0., 0., 0.,\n",
      "          0., 0., 0., 0., 0., 0., 0., 0., 0., 0., 0., 0., 0., 0., 0., 0., 0.,\n",
      "          0., 0., 0., 0., 0., 0., 0., 0., 0., 0., 0., 0., 0., 0., 0.]],\n",
      "\n",
      "        [[0., 0., 0., 0., 0., 0., 0., 0., 0., 0., 0., 0., 0., 0., 0., 0., 0.,\n",
      "          0., 0., 0., 0., 0., 0., 0., 0., 0., 0., 0., 1., 0., 0., 0., 0., 0.,\n",
      "          0., 0., 0., 0., 0., 0., 0., 0., 0., 0., 0., 0., 0., 0., 0., 0., 0.,\n",
      "          0., 0., 0., 0., 0., 0., 0., 0., 0., 0., 0., 0., 0., 0., 0., 0., 0.,\n",
      "          0., 0., 0., 0., 0., 0., 0., 0., 0., 0., 0., 0., 0., 0., 0.]],\n",
      "\n",
      "        [[0., 0., 0., 0., 0., 0., 0., 0., 0., 0., 0., 0., 0., 0., 0., 0., 0.,\n",
      "          0., 0., 0., 0., 0., 0., 0., 0., 0., 0., 0., 0., 0., 0., 0., 0., 0.,\n",
      "          0., 0., 0., 0., 0., 0., 0., 0., 0., 0., 0., 0., 0., 0., 0., 0., 0.,\n",
      "          0., 0., 0., 1., 0., 0., 0., 0., 0., 0., 0., 0., 0., 0., 0., 0., 0.,\n",
      "          0., 0., 0., 0., 0., 0., 0., 0., 0., 0., 0., 0., 0., 0., 0.]],\n",
      "\n",
      "        [[0., 0., 0., 0., 0., 0., 0., 0., 0., 0., 0., 0., 0., 0., 0., 0., 0.,\n",
      "          0., 0., 0., 0., 0., 0., 0., 1., 0., 0., 0., 0., 0., 0., 0., 0., 0.,\n",
      "          0., 0., 0., 0., 0., 0., 0., 0., 0., 0., 0., 0., 0., 0., 0., 0., 0.,\n",
      "          0., 0., 0., 0., 0., 0., 0., 0., 0., 0., 0., 0., 0., 0., 0., 0., 0.,\n",
      "          0., 0., 0., 0., 0., 0., 0., 0., 0., 0., 0., 0., 0., 0., 0.]],\n",
      "\n",
      "        [[0., 0., 0., 0., 0., 0., 0., 0., 0., 0., 0., 0., 0., 0., 0., 0., 0.,\n",
      "          0., 0., 0., 0., 0., 0., 0., 0., 0., 0., 0., 0., 0., 0., 0., 0., 0.,\n",
      "          0., 0., 0., 0., 0., 0., 0., 0., 0., 0., 0., 0., 0., 0., 0., 0., 0.,\n",
      "          0., 0., 0., 0., 0., 0., 0., 1., 0., 0., 0., 0., 0., 0., 0., 0., 0.,\n",
      "          0., 0., 0., 0., 0., 0., 0., 0., 0., 0., 0., 0., 0., 0., 0.]],\n",
      "\n",
      "        [[0., 0., 0., 0., 0., 0., 0., 0., 0., 0., 0., 0., 0., 0., 0., 0., 0.,\n",
      "          0., 0., 0., 0., 0., 0., 0., 0., 0., 0., 0., 0., 0., 0., 0., 0., 0.,\n",
      "          0., 0., 0., 0., 0., 0., 0., 0., 0., 0., 0., 0., 0., 0., 0., 0., 0.,\n",
      "          0., 0., 0., 0., 0., 0., 0., 0., 0., 0., 0., 0., 0., 0., 0., 0., 0.,\n",
      "          0., 0., 0., 0., 1., 0., 0., 0., 0., 0., 0., 0., 0., 0., 0.]],\n",
      "\n",
      "        [[0., 0., 0., 0., 0., 0., 0., 0., 0., 0., 0., 0., 0., 0., 0., 0., 0.,\n",
      "          0., 0., 0., 0., 0., 0., 0., 0., 0., 0., 0., 0., 0., 0., 0., 0., 0.,\n",
      "          0., 0., 0., 0., 0., 0., 0., 0., 0., 0., 0., 0., 0., 0., 0., 0., 1.,\n",
      "          0., 0., 0., 0., 0., 0., 0., 0., 0., 0., 0., 0., 0., 0., 0., 0., 0.,\n",
      "          0., 0., 0., 0., 0., 0., 0., 0., 0., 0., 0., 0., 0., 0., 0.]]])\n",
      "[75, 41, 28, 54, 24, 58, 72, 50]\n",
      "tensor([75, 41, 28, 54, 24, 58, 72, 50])\n"
     ]
    }
   ],
   "source": [
    "print(inputTensor(decks[0]))\n",
    "print(targetTensor(decks[0]))\n"
   ]
  },
  {
   "cell_type": "code",
   "execution_count": 30,
   "id": "1d10daaf-f268-4835-9711-6041f2a52ffa",
   "metadata": {},
   "outputs": [],
   "source": [
    "def rand_train():\n",
    "    deck = decks[random.randint(0,len(decks)-1)]\n",
    "    input_deck_tensor = inputTensor(deck)\n",
    "    target_deck_tensor = targetTensor(deck)\n",
    "    return input_deck_tensor,target_deck_tensor"
   ]
  },
  {
   "cell_type": "code",
   "execution_count": 31,
   "id": "36468ffb-e142-4b53-b532-19751972e3a8",
   "metadata": {},
   "outputs": [],
   "source": [
    "class RNN(nn.Module):\n",
    "    def __init__(self,input_size, hidden_size,output_size):\n",
    "        super(RNN, self).__init__()\n",
    "        self.hidden_size = hidden_size\n",
    "        self.i2h = nn.Linear(input_size+hidden_size, hidden_size)\n",
    "        self.h2o = nn.Linear(hidden_size, output_size)\n",
    "        \n",
    "    def forward(self,input,hidden):\n",
    "        input_combined = torch.cat((input,hidden),1)\n",
    "        hidden = torch.tanh(self.i2h(input_combined))\n",
    "        output = self.h2o(hidden)\n",
    "        output = nn.LogSoftmax(dim=1)(output)\n",
    "        return output, hidden\n",
    "    def initHidden(self):\n",
    "        return torch.zeros(1, self.hidden_size)"
   ]
  },
  {
   "cell_type": "code",
   "execution_count": 32,
   "id": "2615ed73-7ee7-4f00-a329-77ad2e973e84",
   "metadata": {},
   "outputs": [],
   "source": [
    "criterion = nn.NLLLoss()\n",
    "\n",
    "def train(optimizer, input_line_tensor, target_line_tensor):\n",
    "    target_line_tensor.unsqueeze_(-1)\n",
    "    hidden = rnn.initHidden()\n",
    "    \n",
    "    loss = 0\n",
    "    \n",
    "    for i in range(input_line_tensor.size(0)):\n",
    "        if i == 8:\n",
    "            break\n",
    "        output,hidden = rnn(input_line_tensor[i], hidden)\n",
    "        l = criterion(output, target_line_tensor[i])\n",
    "        loss += l\n",
    "    \n",
    "    optimizer.zero_grad()\n",
    "    loss.backward()\n",
    "    optimizer.step()\n",
    "    \n",
    "    return output, loss.item() / input_line_tensor.size(0)"
   ]
  },
  {
   "cell_type": "code",
   "execution_count": 37,
   "id": "63a9fcff-ee4f-45ff-bce7-d00394a0b3fd",
   "metadata": {},
   "outputs": [
    {
     "name": "stdout",
     "output_type": "stream",
     "text": [
      "(5000 5%) 0.7861\n",
      "(10000 10%) 0.3996\n",
      "(15000 15%) 0.3951\n",
      "(20000 20%) 0.3922\n",
      "(25000 25%) 0.3915\n",
      "(30000 30%) 0.3906\n",
      "(35000 35%) 0.3923\n",
      "(40000 40%) 0.3893\n",
      "(45000 45%) 0.3893\n",
      "(50000 50%) 0.3892\n",
      "(55000 55%) 0.3908\n",
      "(60000 60%) 0.3882\n",
      "(65000 65%) 0.3879\n",
      "(70000 70%) 0.3926\n",
      "(75000 75%) 0.3875\n",
      "(80000 80%) 0.3876\n",
      "(85000 85%) 0.3873\n",
      "(90000 90%) 0.3913\n",
      "(95000 95%) 0.3869\n",
      "(100000 100%) 0.3930\n"
     ]
    }
   ],
   "source": [
    "rnn = RNN(n_cards, 128, n_cards)\n",
    "\n",
    "lrn_rate = 0.001\n",
    "\n",
    "optimizer = torch.optim.Adam(rnn.parameters(), lr=lrn_rate)\n",
    "\n",
    "n_iters = 100000\n",
    "print_every = 5000\n",
    "total_loss = 0\n",
    "\n",
    "for iter in range(1, n_iters + 1):\n",
    "    output,loss = train(optimizer, *rand_train())\n",
    "    total_loss += loss\n",
    "    \n",
    "    if iter % print_every == 0:\n",
    "        print('(%d %d%%) %.4f' % (iter, iter / n_iters * 100, total_loss / print_every))\n",
    "        total_loss = 0"
   ]
  },
  {
   "cell_type": "code",
   "execution_count": 144,
   "id": "9c25dfd5-e1e8-4e26-a31d-2625afaf9e6b",
   "metadata": {},
   "outputs": [
    {
     "name": "stdout",
     "output_type": "stream",
     "text": [
      "['START', 'mini-pekka', 'ice-wizard', 'zap', 'baby-dragon', 'fisherman', 'night-witch', 'bomber', 'hunter', 'freeze', 'tombstone', 'lava-hound', 'inferno-tower', 'valkyrie', 'bandit', 'lightning', 'earthquake', 'mega-knight', 'electro-spirit', 'bats', 'fireball', 'spear-goblins', 'mega-minion', 'knight', 'golden-knight', 'ice-golem', 'zappies', 'firecracker', 'electro-wizard', 'rocket', 'clone', 'wall-breakers', 'miner', 'archer-queen', 'skeleton-army', 'musketeer', 'dart-goblin', 'fire-spirit', 'skeleton-king', 'goblin-barrel', 'goblin-gang', 'cannon-cart', 'giant-skeleton', 'battle-ram', 'x-bow', 'royal-giant', 'flying-machine', 'electro-dragon', 'archers', 'princess', 'tornado', 'elite-barbarians', 'the-log', 'balloon', 'goblin-drill', 'royal-hogs', 'three-musketeers', 'tesla', 'magic-archer', 'lumberjack', 'golem', 'inferno-dragon', 'pekka', 'skeletons', 'graveyard', 'skeleton-dragons', 'guards', 'skeleton-barrel', 'mortar', 'arrows', 'bowler', 'heal-spirit', 'royal-ghost', 'bomb-tower', 'hog-rider', 'barbarian-barrel', 'royal-delivery', 'poison', 'ice-spirit', 'barbarians', 'cannon', 'mighty-miner', 'elixir-collector']\n"
     ]
    }
   ],
   "source": [
    "print(cards)"
   ]
  },
  {
   "cell_type": "code",
   "execution_count": 38,
   "id": "c68b05ad-e7c6-4c59-96d7-6ddfcaaed520",
   "metadata": {},
   "outputs": [
    {
     "data": {
      "text/plain": [
       "RNN(\n",
       "  (i2h): Linear(in_features=211, out_features=128, bias=True)\n",
       "  (h2o): Linear(in_features=128, out_features=83, bias=True)\n",
       ")"
      ]
     },
     "execution_count": 38,
     "metadata": {},
     "output_type": "execute_result"
    }
   ],
   "source": [
    "rnn.eval()"
   ]
  },
  {
   "cell_type": "code",
   "execution_count": 39,
   "id": "6d036cb6-24e9-42cb-8375-71614652fceb",
   "metadata": {},
   "outputs": [],
   "source": [
    "def cardTensor(cd):\n",
    "    tensor = torch.zeros(1,1,n_cards)\n",
    "    tensor[0,0,card_to_int[cd]] = 1\n",
    "    return tensor"
   ]
  },
  {
   "cell_type": "code",
   "execution_count": 40,
   "id": "876ef3be-49cb-4b6e-887e-461f391fa9c4",
   "metadata": {},
   "outputs": [],
   "source": [
    "max_length = 8\n",
    "\n",
    "def sample(start_card='START'):\n",
    "    with torch.no_grad():\n",
    "        input = cardTensor(start_card)\n",
    "        hidden = rnn.initHidden()\n",
    "        \n",
    "        output_deck = []\n",
    "        \n",
    "        for i in range(max_length):\n",
    "            output, hidden = rnn(input[0], hidden)\n",
    "            \n",
    "            c = torch.distributions.categorical.Categorical(logits=output[0])\n",
    "            i = c.sample()\n",
    "            \n",
    "            # if cards[i] == \"STOP\":\n",
    "            #     break\n",
    "            # else:\n",
    "            card = cards[i]\n",
    "\n",
    "            output_deck.append(card)\n",
    "\n",
    "        return output_deck\n",
    "            "
   ]
  },
  {
   "cell_type": "code",
   "execution_count": 86,
   "id": "a32c77fc-ef2a-4fd3-9ea8-56a3d0dcb063",
   "metadata": {},
   "outputs": [
    {
     "data": {
      "text/plain": [
       "['START',\n",
       " 'elixir-collector',\n",
       " 'balloon',\n",
       " 'bomber',\n",
       " 'firecracker',\n",
       " 'ice-wizard',\n",
       " 'royal-hogs',\n",
       " 'mini-pekka',\n",
       " 'royal-ghost',\n",
       " 'flying-machine',\n",
       " 'tombstone',\n",
       " 'night-witch',\n",
       " 'hog-rider',\n",
       " 'princess',\n",
       " 'lightning',\n",
       " 'archer-queen',\n",
       " 'electro-dragon',\n",
       " 'battle-ram',\n",
       " 'fireball',\n",
       " 'bowler',\n",
       " 'dart-goblin',\n",
       " 'mighty-miner',\n",
       " 'mortar',\n",
       " 'knight',\n",
       " 'skeleton-barrel',\n",
       " 'fire-spirit',\n",
       " 'cannon',\n",
       " 'inferno-tower',\n",
       " 'lava-hound',\n",
       " 'goblin-gang',\n",
       " 'bats',\n",
       " 'heal-spirit',\n",
       " 'giant-skeleton',\n",
       " 'zappies',\n",
       " 'inferno-dragon',\n",
       " 'earthquake',\n",
       " 'golden-knight',\n",
       " 'mega-minion',\n",
       " 'skeleton-dragons',\n",
       " 'fisherman',\n",
       " 'the-log',\n",
       " 'goblin-barrel',\n",
       " 'x-bow',\n",
       " 'baby-dragon',\n",
       " 'barbarian-barrel',\n",
       " 'musketeer',\n",
       " 'skeleton-army',\n",
       " 'wall-breakers',\n",
       " 'electro-wizard',\n",
       " 'three-musketeers',\n",
       " 'pekka',\n",
       " 'freeze',\n",
       " 'barbarians',\n",
       " 'electro-spirit',\n",
       " 'graveyard',\n",
       " 'royal-giant',\n",
       " 'royal-delivery',\n",
       " 'poison',\n",
       " 'cannon-cart',\n",
       " 'ice-golem',\n",
       " 'zap',\n",
       " 'spear-goblins',\n",
       " 'valkyrie',\n",
       " 'clone',\n",
       " 'rocket',\n",
       " 'hunter',\n",
       " 'bandit',\n",
       " 'miner',\n",
       " 'skeletons',\n",
       " 'magic-archer',\n",
       " 'archers',\n",
       " 'tesla',\n",
       " 'skeleton-king',\n",
       " 'guards',\n",
       " 'bomb-tower',\n",
       " 'goblin-drill',\n",
       " 'mega-knight',\n",
       " 'golem',\n",
       " 'arrows',\n",
       " 'lumberjack',\n",
       " 'tornado',\n",
       " 'elite-barbarians',\n",
       " 'ice-spirit']"
      ]
     },
     "execution_count": 86,
     "metadata": {},
     "output_type": "execute_result"
    }
   ],
   "source": [
    "# cards.remove('STOP')\n",
    "cards"
   ]
  },
  {
   "cell_type": "code",
   "execution_count": 126,
   "id": "ada79c64-2464-4bfc-9b12-41a7a23d1b9c",
   "metadata": {},
   "outputs": [],
   "source": [
    "def LinkGen(deck):\n",
    "    url = 'https://www.deckshop.pro/check/?deck='\n",
    "    for card in deck:\n",
    "        card = card.replace('-','')\n",
    "        url += card + '-'\n",
    "    return url[:-1]"
   ]
  },
  {
   "cell_type": "code",
   "execution_count": 140,
   "id": "8428aa3f-fd1f-4531-8aca-1c7862679d0d",
   "metadata": {},
   "outputs": [
    {
     "name": "stdout",
     "output_type": "stream",
     "text": [
      "['arrows', 'barbarian-barrel', 'earthquake', 'fire-spirit', 'electro-spirit', 'baby-dragon', 'miner', 'the-log']\n",
      "https://www.deckshop.pro/check/?deck=arrows-barbarianbarrel-earthquake-firespirit-electrospirit-babydragon-miner-thelog\n",
      "['barbarian-barrel', 'balloon', 'earthquake', 'fire-spirit', 'fireball', 'bandit', 'electro-spirit', 'the-log']\n",
      "https://www.deckshop.pro/check/?deck=barbarianbarrel-balloon-earthquake-firespirit-fireball-bandit-electrospirit-thelog\n"
     ]
    }
   ],
   "source": [
    "for i in range(50):\n",
    "    decksample = sample()\n",
    "\n",
    "    valid = True\n",
    "    for i in decksample:\n",
    "        if decksample.count(i) > 1:\n",
    "            valid = False\n",
    "    \n",
    "    if valid:\n",
    "        print(decksample)\n",
    "        print(LinkGen(decksample))"
   ]
  },
  {
   "cell_type": "code",
   "execution_count": 142,
   "id": "898fdcf7-cceb-45c4-bb8b-a4ef1bf1b2d3",
   "metadata": {},
   "outputs": [],
   "source": [
    "torch.save(rnn.state_dict(), 'crmodel.pth')"
   ]
  }
 ],
 "metadata": {
  "kernelspec": {
   "display_name": "Python 3 (ipykernel)",
   "language": "python",
   "name": "python3"
  },
  "language_info": {
   "codemirror_mode": {
    "name": "ipython",
    "version": 3
   },
   "file_extension": ".py",
   "mimetype": "text/x-python",
   "name": "python",
   "nbconvert_exporter": "python",
   "pygments_lexer": "ipython3",
   "version": "3.10.4"
  }
 },
 "nbformat": 4,
 "nbformat_minor": 5
}
